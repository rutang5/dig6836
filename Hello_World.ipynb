{
  "cells": [
    {
      "cell_type": "markdown",
      "metadata": {
        "id": "view-in-github",
        "colab_type": "text"
      },
      "source": [
        "<a href=\"https://colab.research.google.com/github/rutang5/dig6836/blob/main/Hello_World.ipynb\" target=\"_parent\"><img src=\"https://colab.research.google.com/assets/colab-badge.svg\" alt=\"Open In Colab\"/></a>"
      ]
    },
    {
      "cell_type": "code",
      "execution_count": 2,
      "metadata": {
        "colab": {
          "base_uri": "https://localhost:8080/"
        },
        "id": "yxnCFmS_S6tg",
        "outputId": "3d9f0ced-2948-4805-aeeb-053b0045a308"
      },
      "outputs": [
        {
          "output_type": "stream",
          "name": "stdout",
          "text": [
            "Collecting colored\n",
            "  Downloading colored-2.2.2-py3-none-any.whl (16 kB)\n",
            "Installing collected packages: colored\n",
            "Successfully installed colored-2.2.2\n",
            "Collecting colorama\n",
            "  Downloading colorama-0.4.6-py2.py3-none-any.whl (25 kB)\n",
            "Installing collected packages: colorama\n",
            "Successfully installed colorama-0.4.6\n",
            "\u001b[31m Hello, World!\n",
            "\u001b[32m What is your name? Rudy\n",
            "What is your age? 25\n",
            "Hello, Rudy! In 25 years you will be 50 years old!\n"
          ]
        }
      ],
      "source": [
        "!pip install colorama\n",
        "import colorama\n",
        "from colorama import Fore, Back, Style\n",
        "\n",
        "print(Fore.RED, \"Hello, World!\")\n",
        "print(Fore.GREEN, \"What is your name? \", end='')\n",
        "name = input()\n",
        "age = input(\"What is your age? \")\n",
        "ageNum = int(age)\n",
        "oldAge = ageNum + 25\n",
        "age = str(oldAge)\n",
        "print(\"Hello, \"+name+\"! In 25 years you will be \"+ age + \" years old!\")\n",
        "\n"
      ]
    }
  ],
  "metadata": {
    "colab": {
      "provenance": [],
      "include_colab_link": true
    },
    "kernelspec": {
      "display_name": "Python 3",
      "name": "python3"
    },
    "language_info": {
      "name": "python"
    }
  },
  "nbformat": 4,
  "nbformat_minor": 0
}